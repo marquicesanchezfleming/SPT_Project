{
 "cells": [
  {
   "cell_type": "code",
   "execution_count": 8,
   "metadata": {},
   "outputs": [
    {
     "name": "stdout",
     "output_type": "stream",
     "text": [
      "57662.71299770009\n"
     ]
    }
   ],
   "source": [
    "def jd_to_mjd(jd):\n",
    "    mjd = jd - 2400000.5\n",
    "    return mjd\n",
    "\n",
    "jd = 2457663.2129977\n",
    "mjd = jd_to_mjd(jd)\n",
    "print(f\"{mjd}\")\n"
   ]
  }
 ],
 "metadata": {
  "kernelspec": {
   "display_name": "CS1112",
   "language": "python",
   "name": "python3"
  },
  "language_info": {
   "codemirror_mode": {
    "name": "ipython",
    "version": 3
   },
   "file_extension": ".py",
   "mimetype": "text/x-python",
   "name": "python",
   "nbconvert_exporter": "python",
   "pygments_lexer": "ipython3",
   "version": "3.12.8"
  }
 },
 "nbformat": 4,
 "nbformat_minor": 2
}
